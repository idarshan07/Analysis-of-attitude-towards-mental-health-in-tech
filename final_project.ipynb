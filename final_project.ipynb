{
 "cells": [
  {
   "cell_type": "markdown",
   "id": "235ff79d",
   "metadata": {},
   "source": [
    "# DATA 1202-01 Data Analysis Tools Analytics"
   ]
  },
  {
   "cell_type": "markdown",
   "id": "a4336e67",
   "metadata": {},
   "source": [
    "## Final Project\n",
    "### Student Name - Darshanbhai Avaiya\n",
    "### Student ID - 100848457"
   ]
  },
  {
   "cell_type": "code",
   "execution_count": 1,
   "id": "49bdb12a",
   "metadata": {},
   "outputs": [],
   "source": [
    "#Import Libraries\n",
    "import pandas as pd\n",
    "import seaborn as sns\n",
    "import matplotlib.pyplot as plt"
   ]
  },
  {
   "cell_type": "code",
   "execution_count": 2,
   "id": "8b3b678b",
   "metadata": {},
   "outputs": [
    {
     "name": "stdout",
     "output_type": "stream",
     "text": [
      "(1259, 27)\n"
     ]
    },
    {
     "data": {
      "text/html": [
       "<div>\n",
       "<style scoped>\n",
       "    .dataframe tbody tr th:only-of-type {\n",
       "        vertical-align: middle;\n",
       "    }\n",
       "\n",
       "    .dataframe tbody tr th {\n",
       "        vertical-align: top;\n",
       "    }\n",
       "\n",
       "    .dataframe thead th {\n",
       "        text-align: right;\n",
       "    }\n",
       "</style>\n",
       "<table border=\"1\" class=\"dataframe\">\n",
       "  <thead>\n",
       "    <tr style=\"text-align: right;\">\n",
       "      <th></th>\n",
       "      <th>Timestamp</th>\n",
       "      <th>Age</th>\n",
       "      <th>Gender</th>\n",
       "      <th>Country</th>\n",
       "      <th>state</th>\n",
       "      <th>self_employed</th>\n",
       "      <th>family_history</th>\n",
       "      <th>treatment</th>\n",
       "      <th>work_interfere</th>\n",
       "      <th>no_employees</th>\n",
       "      <th>remote_work</th>\n",
       "      <th>tech_company</th>\n",
       "      <th>benefits</th>\n",
       "      <th>care_options</th>\n",
       "      <th>wellness_program</th>\n",
       "      <th>seek_help</th>\n",
       "      <th>anonymity</th>\n",
       "      <th>leave</th>\n",
       "      <th>mental_health_consequence</th>\n",
       "      <th>phys_health_consequence</th>\n",
       "      <th>coworkers</th>\n",
       "      <th>supervisor</th>\n",
       "      <th>mental_health_interview</th>\n",
       "      <th>phys_health_interview</th>\n",
       "      <th>mental_vs_physical</th>\n",
       "      <th>obs_consequence</th>\n",
       "      <th>comments</th>\n",
       "    </tr>\n",
       "  </thead>\n",
       "  <tbody>\n",
       "    <tr>\n",
       "      <th>0</th>\n",
       "      <td>2014-08-27 11:29:31</td>\n",
       "      <td>37</td>\n",
       "      <td>Female</td>\n",
       "      <td>United States</td>\n",
       "      <td>IL</td>\n",
       "      <td>NaN</td>\n",
       "      <td>No</td>\n",
       "      <td>Yes</td>\n",
       "      <td>Often</td>\n",
       "      <td>6-25</td>\n",
       "      <td>No</td>\n",
       "      <td>Yes</td>\n",
       "      <td>Yes</td>\n",
       "      <td>Not sure</td>\n",
       "      <td>No</td>\n",
       "      <td>Yes</td>\n",
       "      <td>Yes</td>\n",
       "      <td>Somewhat easy</td>\n",
       "      <td>No</td>\n",
       "      <td>No</td>\n",
       "      <td>Some of them</td>\n",
       "      <td>Yes</td>\n",
       "      <td>No</td>\n",
       "      <td>Maybe</td>\n",
       "      <td>Yes</td>\n",
       "      <td>No</td>\n",
       "      <td>NaN</td>\n",
       "    </tr>\n",
       "    <tr>\n",
       "      <th>1</th>\n",
       "      <td>2014-08-27 11:29:37</td>\n",
       "      <td>44</td>\n",
       "      <td>M</td>\n",
       "      <td>United States</td>\n",
       "      <td>IN</td>\n",
       "      <td>NaN</td>\n",
       "      <td>No</td>\n",
       "      <td>No</td>\n",
       "      <td>Rarely</td>\n",
       "      <td>More than 1000</td>\n",
       "      <td>No</td>\n",
       "      <td>No</td>\n",
       "      <td>Don't know</td>\n",
       "      <td>No</td>\n",
       "      <td>Don't know</td>\n",
       "      <td>Don't know</td>\n",
       "      <td>Don't know</td>\n",
       "      <td>Don't know</td>\n",
       "      <td>Maybe</td>\n",
       "      <td>No</td>\n",
       "      <td>No</td>\n",
       "      <td>No</td>\n",
       "      <td>No</td>\n",
       "      <td>No</td>\n",
       "      <td>Don't know</td>\n",
       "      <td>No</td>\n",
       "      <td>NaN</td>\n",
       "    </tr>\n",
       "    <tr>\n",
       "      <th>2</th>\n",
       "      <td>2014-08-27 11:29:44</td>\n",
       "      <td>32</td>\n",
       "      <td>Male</td>\n",
       "      <td>Canada</td>\n",
       "      <td>NaN</td>\n",
       "      <td>NaN</td>\n",
       "      <td>No</td>\n",
       "      <td>No</td>\n",
       "      <td>Rarely</td>\n",
       "      <td>6-25</td>\n",
       "      <td>No</td>\n",
       "      <td>Yes</td>\n",
       "      <td>No</td>\n",
       "      <td>No</td>\n",
       "      <td>No</td>\n",
       "      <td>No</td>\n",
       "      <td>Don't know</td>\n",
       "      <td>Somewhat difficult</td>\n",
       "      <td>No</td>\n",
       "      <td>No</td>\n",
       "      <td>Yes</td>\n",
       "      <td>Yes</td>\n",
       "      <td>Yes</td>\n",
       "      <td>Yes</td>\n",
       "      <td>No</td>\n",
       "      <td>No</td>\n",
       "      <td>NaN</td>\n",
       "    </tr>\n",
       "    <tr>\n",
       "      <th>3</th>\n",
       "      <td>2014-08-27 11:29:46</td>\n",
       "      <td>31</td>\n",
       "      <td>Male</td>\n",
       "      <td>United Kingdom</td>\n",
       "      <td>NaN</td>\n",
       "      <td>NaN</td>\n",
       "      <td>Yes</td>\n",
       "      <td>Yes</td>\n",
       "      <td>Often</td>\n",
       "      <td>26-100</td>\n",
       "      <td>No</td>\n",
       "      <td>Yes</td>\n",
       "      <td>No</td>\n",
       "      <td>Yes</td>\n",
       "      <td>No</td>\n",
       "      <td>No</td>\n",
       "      <td>No</td>\n",
       "      <td>Somewhat difficult</td>\n",
       "      <td>Yes</td>\n",
       "      <td>Yes</td>\n",
       "      <td>Some of them</td>\n",
       "      <td>No</td>\n",
       "      <td>Maybe</td>\n",
       "      <td>Maybe</td>\n",
       "      <td>No</td>\n",
       "      <td>Yes</td>\n",
       "      <td>NaN</td>\n",
       "    </tr>\n",
       "    <tr>\n",
       "      <th>4</th>\n",
       "      <td>2014-08-27 11:30:22</td>\n",
       "      <td>31</td>\n",
       "      <td>Male</td>\n",
       "      <td>United States</td>\n",
       "      <td>TX</td>\n",
       "      <td>NaN</td>\n",
       "      <td>No</td>\n",
       "      <td>No</td>\n",
       "      <td>Never</td>\n",
       "      <td>100-500</td>\n",
       "      <td>Yes</td>\n",
       "      <td>Yes</td>\n",
       "      <td>Yes</td>\n",
       "      <td>No</td>\n",
       "      <td>Don't know</td>\n",
       "      <td>Don't know</td>\n",
       "      <td>Don't know</td>\n",
       "      <td>Don't know</td>\n",
       "      <td>No</td>\n",
       "      <td>No</td>\n",
       "      <td>Some of them</td>\n",
       "      <td>Yes</td>\n",
       "      <td>Yes</td>\n",
       "      <td>Yes</td>\n",
       "      <td>Don't know</td>\n",
       "      <td>No</td>\n",
       "      <td>NaN</td>\n",
       "    </tr>\n",
       "  </tbody>\n",
       "</table>\n",
       "</div>"
      ],
      "text/plain": [
       "             Timestamp  Age  Gender         Country state self_employed  \\\n",
       "0  2014-08-27 11:29:31   37  Female   United States    IL           NaN   \n",
       "1  2014-08-27 11:29:37   44       M   United States    IN           NaN   \n",
       "2  2014-08-27 11:29:44   32    Male          Canada   NaN           NaN   \n",
       "3  2014-08-27 11:29:46   31    Male  United Kingdom   NaN           NaN   \n",
       "4  2014-08-27 11:30:22   31    Male   United States    TX           NaN   \n",
       "\n",
       "  family_history treatment work_interfere    no_employees remote_work  \\\n",
       "0             No       Yes          Often            6-25          No   \n",
       "1             No        No         Rarely  More than 1000          No   \n",
       "2             No        No         Rarely            6-25          No   \n",
       "3            Yes       Yes          Often          26-100          No   \n",
       "4             No        No          Never         100-500         Yes   \n",
       "\n",
       "  tech_company    benefits care_options wellness_program   seek_help  \\\n",
       "0          Yes         Yes     Not sure               No         Yes   \n",
       "1           No  Don't know           No       Don't know  Don't know   \n",
       "2          Yes          No           No               No          No   \n",
       "3          Yes          No          Yes               No          No   \n",
       "4          Yes         Yes           No       Don't know  Don't know   \n",
       "\n",
       "    anonymity               leave mental_health_consequence  \\\n",
       "0         Yes       Somewhat easy                        No   \n",
       "1  Don't know          Don't know                     Maybe   \n",
       "2  Don't know  Somewhat difficult                        No   \n",
       "3          No  Somewhat difficult                       Yes   \n",
       "4  Don't know          Don't know                        No   \n",
       "\n",
       "  phys_health_consequence     coworkers supervisor mental_health_interview  \\\n",
       "0                      No  Some of them        Yes                      No   \n",
       "1                      No            No         No                      No   \n",
       "2                      No           Yes        Yes                     Yes   \n",
       "3                     Yes  Some of them         No                   Maybe   \n",
       "4                      No  Some of them        Yes                     Yes   \n",
       "\n",
       "  phys_health_interview mental_vs_physical obs_consequence comments  \n",
       "0                 Maybe                Yes              No      NaN  \n",
       "1                    No         Don't know              No      NaN  \n",
       "2                   Yes                 No              No      NaN  \n",
       "3                 Maybe                 No             Yes      NaN  \n",
       "4                   Yes         Don't know              No      NaN  "
      ]
     },
     "execution_count": 2,
     "metadata": {},
     "output_type": "execute_result"
    }
   ],
   "source": [
    "#Import datset into pandas dataframe and print top 5 rows\n",
    "data=pd.read_csv('survey.csv')\n",
    "print(data.shape)\n",
    "pd.set_option(\"display.max_columns\",100)\n",
    "data.head()"
   ]
  },
  {
   "cell_type": "code",
   "execution_count": 3,
   "id": "b992faff",
   "metadata": {},
   "outputs": [
    {
     "data": {
      "text/plain": [
       "Timestamp                       0\n",
       "Age                             0\n",
       "Gender                          0\n",
       "Country                         0\n",
       "state                         515\n",
       "self_employed                  18\n",
       "family_history                  0\n",
       "treatment                       0\n",
       "work_interfere                264\n",
       "no_employees                    0\n",
       "remote_work                     0\n",
       "tech_company                    0\n",
       "benefits                        0\n",
       "care_options                    0\n",
       "wellness_program                0\n",
       "seek_help                       0\n",
       "anonymity                       0\n",
       "leave                           0\n",
       "mental_health_consequence       0\n",
       "phys_health_consequence         0\n",
       "coworkers                       0\n",
       "supervisor                      0\n",
       "mental_health_interview         0\n",
       "phys_health_interview           0\n",
       "mental_vs_physical              0\n",
       "obs_consequence                 0\n",
       "comments                     1095\n",
       "dtype: int64"
      ]
     },
     "execution_count": 3,
     "metadata": {},
     "output_type": "execute_result"
    }
   ],
   "source": [
    "#Check total number of null values in each column\n",
    "data.isnull().sum()"
   ]
  },
  {
   "cell_type": "markdown",
   "id": "5fe19609",
   "metadata": {},
   "source": [
    "## Data Transformation"
   ]
  },
  {
   "cell_type": "code",
   "execution_count": 4,
   "id": "20d22dc9",
   "metadata": {},
   "outputs": [
    {
     "name": "stdout",
     "output_type": "stream",
     "text": [
      "Country  :  ['United States' 'Canada' 'United Kingdom' 'Bulgaria' 'France' 'Portugal'\n",
      " 'Netherlands' 'Switzerland' 'Poland' 'Australia' 'Germany' 'Russia'\n",
      " 'Mexico' 'Brazil' 'Slovenia' 'Costa Rica' 'Austria' 'Ireland' 'India'\n",
      " 'South Africa' 'Italy' 'Sweden' 'Colombia' 'Latvia' 'Romania' 'Belgium'\n",
      " 'New Zealand' 'Zimbabwe' 'Spain' 'Finland' 'Uruguay' 'Israel'\n",
      " 'Bosnia and Herzegovina' 'Hungary' 'Singapore' 'Japan' 'Nigeria'\n",
      " 'Croatia' 'Norway' 'Thailand' 'Denmark' 'Bahamas, The' 'Greece' 'Moldova'\n",
      " 'Georgia' 'China' 'Czech Republic' 'Philippines']\n",
      "state  :  ['IL' 'IN' nan 'TX' 'TN' 'MI' 'OH' 'CA' 'CT' 'MD' 'NY' 'NC' 'MA' 'IA' 'PA'\n",
      " 'WA' 'WI' 'UT' 'NM' 'OR' 'FL' 'MN' 'MO' 'AZ' 'CO' 'GA' 'DC' 'NE' 'WV'\n",
      " 'OK' 'KS' 'VA' 'NH' 'KY' 'AL' 'NV' 'NJ' 'SC' 'VT' 'SD' 'ID' 'MS' 'RI'\n",
      " 'WY' 'LA' 'ME']\n",
      "self_employed  :  [nan 'Yes' 'No']\n",
      "family_history  :  ['No' 'Yes']\n",
      "treatment  :  ['Yes' 'No']\n",
      "work_interfere  :  ['Often' 'Rarely' 'Never' 'Sometimes' nan]\n",
      "no_employees  :  ['6-25' 'More than 1000' '26-100' '100-500' '1-5' '500-1000']\n",
      "remote_work  :  ['No' 'Yes']\n",
      "tech_company  :  ['Yes' 'No']\n",
      "benefits  :  ['Yes' \"Don't know\" 'No']\n",
      "care_options  :  ['Not sure' 'No' 'Yes']\n",
      "wellness_program  :  ['No' \"Don't know\" 'Yes']\n",
      "seek_help  :  ['Yes' \"Don't know\" 'No']\n",
      "anonymity  :  ['Yes' \"Don't know\" 'No']\n",
      "leave  :  ['Somewhat easy' \"Don't know\" 'Somewhat difficult' 'Very difficult'\n",
      " 'Very easy']\n",
      "mental_health_consequence  :  ['No' 'Maybe' 'Yes']\n",
      "phys_health_consequence  :  ['No' 'Yes' 'Maybe']\n",
      "coworkers  :  ['Some of them' 'No' 'Yes']\n",
      "supervisor  :  ['Yes' 'No' 'Some of them']\n",
      "mental_health_interview  :  ['No' 'Yes' 'Maybe']\n",
      "phys_health_interview  :  ['Maybe' 'No' 'Yes']\n",
      "mental_vs_physical  :  ['Yes' \"Don't know\" 'No']\n",
      "obs_consequence  :  ['No' 'Yes']\n"
     ]
    }
   ],
   "source": [
    "#Check and print unique values of categorical variables\n",
    "selected_columns=['Country', 'state', 'self_employed',\n",
    "       'family_history', 'treatment', 'work_interfere', 'no_employees',\n",
    "       'remote_work', 'tech_company', 'benefits', 'care_options',\n",
    "       'wellness_program', 'seek_help', 'anonymity', 'leave',\n",
    "       'mental_health_consequence', 'phys_health_consequence', 'coworkers',\n",
    "       'supervisor', 'mental_health_interview', 'phys_health_interview',\n",
    "       'mental_vs_physical', 'obs_consequence']\n",
    "\n",
    "for i in range(0,len(selected_columns)):\n",
    "    print(selected_columns[i],\" : \",data[selected_columns[i]].unique())"
   ]
  },
  {
   "cell_type": "code",
   "execution_count": 5,
   "id": "fe9fa182",
   "metadata": {},
   "outputs": [
    {
     "name": "stdout",
     "output_type": "stream",
     "text": [
      "[         37          44          32          31          33          35\n",
      "          39          42          23          29          36          27\n",
      "          46          41          34          30          40          38\n",
      "          50          24          18          28          26          22\n",
      "          19          25          45          21         -29          43\n",
      "          56          60          54         329          55 99999999999\n",
      "          48          20          57          58          47          62\n",
      "          51          65          49       -1726           5          53\n",
      "          61           8          11          -1          72]\n"
     ]
    },
    {
     "data": {
      "text/plain": [
       "array([37, 44, 32, 31, 33, 35, 39, 42, 23, 29, 36, 27, 46, 41, 34, 30, 40,\n",
       "       38, 50, 24, 18, 28, 26, 22, 19, 25, 45, 21, 43, 56, 60, 54, 55, 48,\n",
       "       20, 57, 58, 47, 62, 51, 65, 49,  5, 53, 61,  8, 11, 72],\n",
       "      dtype=int64)"
      ]
     },
     "execution_count": 5,
     "metadata": {},
     "output_type": "execute_result"
    }
   ],
   "source": [
    "# Removing anomalies from \"Age\" columns\n",
    "print(data['Age'].unique())\n",
    "data.drop(data[data['Age']<0].index,inplace=True)\n",
    "data.drop(data[data['Age']>100].index,inplace=True)\n",
    "data['Age'].unique()"
   ]
  },
  {
   "cell_type": "code",
   "execution_count": 6,
   "id": "07637f3b",
   "metadata": {},
   "outputs": [
    {
     "ename": "SyntaxError",
     "evalue": "invalid syntax (262539333.py, line 3)",
     "output_type": "error",
     "traceback": [
      "\u001b[1;36m  Input \u001b[1;32mIn [6]\u001b[1;36m\u001b[0m\n\u001b[1;33m    data.loc[(data['leave'].isin(['Somewhat difficult','Very difficult'])), \"leave\"] = \"Difficult\"s\u001b[0m\n\u001b[1;37m                                                                                                  ^\u001b[0m\n\u001b[1;31mSyntaxError\u001b[0m\u001b[1;31m:\u001b[0m invalid syntax\n"
     ]
    }
   ],
   "source": [
    "# Transforming \"leave\" column\n",
    "data.loc[(data['leave'].isin(['Somewhat easy','Very easy'])), \"leave\"] = \"Easy\"\n",
    "data.loc[(data['leave'].isin(['Somewhat difficult','Very difficult'])), \"leave\"] = \"Difficult\"s"
   ]
  },
  {
   "cell_type": "markdown",
   "id": "37720c20",
   "metadata": {},
   "source": [
    "## Data Visualization"
   ]
  },
  {
   "cell_type": "code",
   "execution_count": null,
   "id": "775a114a",
   "metadata": {},
   "outputs": [],
   "source": [
    "# Calculate percentage of data from each country\n",
    "value_counts=pd.DataFrame(data['Country'].value_counts()[:10])\n",
    "value_counts['Percentage']=round((value_counts['Country']*100)/(value_counts['Country'].sum()),2)\n",
    "value_counts"
   ]
  },
  {
   "cell_type": "code",
   "execution_count": null,
   "id": "1b90e3e9",
   "metadata": {},
   "outputs": [],
   "source": [
    "# Visualize top 10 country with maximum people with mental health illness\n",
    "fig, ax = plt.subplots(figsize=(15, 6))\n",
    "sns.barplot(x=value_counts.index,y='Percentage',data=value_counts)\n",
    "plt.title(\"Top 10 countries with highest Percentage of people with mental health illness\")"
   ]
  },
  {
   "cell_type": "code",
   "execution_count": null,
   "id": "3be1f303",
   "metadata": {},
   "outputs": [],
   "source": [
    "#Visualize pie chart for \"coworkers\" column\n",
    "fig,ax=plt.subplots(figsize=(5,5))\n",
    "plt.title(\"willingness to discuss a mental health issue with coworkers\")\n",
    "plt.pie(data['coworkers'].value_counts(),labels=data['coworkers'].unique())\n",
    "data['coworkers'].value_counts()"
   ]
  },
  {
   "cell_type": "code",
   "execution_count": null,
   "id": "9c825e73",
   "metadata": {},
   "outputs": [],
   "source": [
    "plt.title(\"Employer takes mental health as seriously as physical health\")\n",
    "plt.hist(data['mental_vs_physical'],histtype='step')"
   ]
  },
  {
   "cell_type": "code",
   "execution_count": null,
   "id": "c95f964c",
   "metadata": {},
   "outputs": [],
   "source": [
    "# Visualize frequency of \"treatment\" and \"work_interfere\" for overall data\n",
    "plt.figure(figsize = (10,6))\n",
    "sns.countplot(x =  'work_interfere', data = data, hue = 'treatment')\n",
    "plt.show()"
   ]
  },
  {
   "cell_type": "code",
   "execution_count": null,
   "id": "d18f5113",
   "metadata": {},
   "outputs": [],
   "source": [
    "# Define function to produce country wise visualization for different categorical variables\n",
    "def country_viz(country_name,column_name, hue_column):\n",
    "    country_data=data[data['Country']==country_name]\n",
    "    plt.figure(figsize = (10,6))\n",
    "    sns.countplot(x = column_name, data = country_data, hue = hue_column)\n",
    "    return plt.show()"
   ]
  },
  {
   "cell_type": "code",
   "execution_count": null,
   "id": "1154cc3d",
   "metadata": {},
   "outputs": [],
   "source": [
    "# Define function to produce country wise pie chart for categorical variables\n",
    "def country_pie_chart(country_name,column_name):\n",
    "    country_data=data[data['Country']==country_name]\n",
    "    plt.figure(figsize=(6,6))\n",
    "    plt.pie(country_data[column_name].value_counts(),labels=country_data[column_name].unique())\n",
    "    plt.title(\"''{0}'' for {1}\".format(column_name,country_name))"
   ]
  },
  {
   "cell_type": "code",
   "execution_count": null,
   "id": "dde090c0",
   "metadata": {},
   "outputs": [],
   "source": [
    "# Country Names: ['United States' 'Canada' 'United Kingdom' 'Bulgaria' 'France' 'Portugal'\n",
    "# 'Netherlands' 'Switzerland' 'Poland' 'Australia' 'Germany' 'Russia'\n",
    "# 'Mexico' 'Brazil' 'Slovenia' 'Costa Rica' 'Austria' 'Ireland' 'India'\n",
    "# 'South Africa' 'Italy' 'Sweden' 'Colombia' 'Latvia' 'Romania' 'Belgium'\n",
    "# 'New Zealand' 'Spain' 'Finland' 'Uruguay' 'Israel'\n",
    "# 'Bosnia and Herzegovina' 'Hungary' 'Singapore' 'Japan' 'Nigeria'\n",
    "# 'Croatia' 'Norway' 'Thailand' 'Denmark' 'Bahamas, The' 'Greece' 'Moldova'\n",
    "# 'Georgia' 'China' 'Czech Republic' 'Philippines']"
   ]
  },
  {
   "cell_type": "code",
   "execution_count": null,
   "id": "e9a9569d",
   "metadata": {},
   "outputs": [],
   "source": [
    "# Categorical variables:['self_employed',\n",
    "#       'family_history', 'treatment', 'work_interfere', 'no_employees',\n",
    "#       'remote_work', 'tech_company', 'benefits', 'care_options',\n",
    "#       'wellness_program', 'seek_help', 'anonymity', 'leave',\n",
    "#       'mental_health_consequence', 'phys_health_consequence', 'coworkers',\n",
    "#       'supervisor', 'mental_health_interview', 'phys_health_interview',\n",
    "#       'mental_vs_physical', 'obs_consequence'] "
   ]
  },
  {
   "cell_type": "code",
   "execution_count": null,
   "id": "18873e0f",
   "metadata": {},
   "outputs": [],
   "source": [
    "country_viz(\"Canada\",\"work_interfere\", \"treatment\")"
   ]
  },
  {
   "cell_type": "code",
   "execution_count": null,
   "id": "1d146d2e",
   "metadata": {
    "scrolled": true
   },
   "outputs": [],
   "source": [
    "country_pie_chart(\"United States\",\"leave\")"
   ]
  },
  {
   "cell_type": "markdown",
   "id": "c8d2445a",
   "metadata": {},
   "source": [
    "# Write up about Analysis"
   ]
  },
  {
   "cell_type": "markdown",
   "id": "de37647f",
   "metadata": {},
   "source": [
    "> As we can see, data has many columns but there are some columns which are not relavent to the questions asked for this\n",
    "project such as Timestamp, Gender, Comments etc. So, I did not consider that for Analysis."
   ]
  },
  {
   "cell_type": "markdown",
   "id": "9265ff7c",
   "metadata": {},
   "source": [
    "> The problem I was facing during this project was about the selection of categorical variables and visualize it according to geographic locations.\n",
    ">So, I have I have considered features like \"leave\", \"treatment\", \"work_interference\", \"mental_vs_physical\", and \"coworkers\" because these are most relavent variables for the analysis of frequency of mental illness varying by geographic locations. \n",
    ">>I have considered \"Country\" column as geographic location because state column has many null values and we can not impute those values."
   ]
  },
  {
   "cell_type": "markdown",
   "id": "e9318ee5",
   "metadata": {},
   "source": [
    "> As we can see that there are many more columns which can be useful to analyse the frequency of mental illness. So, I have created to functions: one for bar chart and second for Pie chart. So, user can select any categorical variable and visualize it country wise for further analysis for any column."
   ]
  },
  {
   "cell_type": "markdown",
   "id": "981c9aa2",
   "metadata": {},
   "source": [
    "> From my Analysis, I found that United states has the maximum number of employes facing mental health disorders in tech workplace followed by United Kingdom and then Canada."
   ]
  },
  {
   "cell_type": "markdown",
   "id": "62608ae8",
   "metadata": {},
   "source": [
    "> Moreover, from the histogram chart it is clear that most of tech employees do not know whether his/her employer takes mental health as seriously as physical health or not."
   ]
  },
  {
   "cell_type": "markdown",
   "id": "6781fa48",
   "metadata": {},
   "source": [
    "> In canada, Maximum number of people who are getting treatment for mental health disorder are facing work interference sometimes."
   ]
  },
  {
   "cell_type": "code",
   "execution_count": null,
   "id": "e1377e2e",
   "metadata": {},
   "outputs": [],
   "source": []
  }
 ],
 "metadata": {
  "kernelspec": {
   "display_name": "Python 3 (ipykernel)",
   "language": "python",
   "name": "python3"
  },
  "language_info": {
   "codemirror_mode": {
    "name": "ipython",
    "version": 3
   },
   "file_extension": ".py",
   "mimetype": "text/x-python",
   "name": "python",
   "nbconvert_exporter": "python",
   "pygments_lexer": "ipython3",
   "version": "3.10.4"
  }
 },
 "nbformat": 4,
 "nbformat_minor": 5
}
