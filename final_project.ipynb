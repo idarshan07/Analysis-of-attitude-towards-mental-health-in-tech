{
 "cells": [
  {
   "cell_type": "markdown",
   "id": "235ff79d",
   "metadata": {},
   "source": [
    "# DATA 1202-01 Data Analysis Tools Analytics"
   ]
  },
  {
   "cell_type": "markdown",
   "id": "a4336e67",
   "metadata": {},
   "source": [
    "## Final Project\n",
    "### Student Name - Darshan Avaiya\n",
   
   ]
  },
  {
   "cell_type": "code",
   "execution_count": 7,
   "id": "49bdb12a",
   "metadata": {},
   "outputs": [],
   "source": [
    "#Import Libraries\n",
    "import pandas as pd\n",
    "import seaborn as sns\n",
    "import matplotlib.pyplot as plt"
   ]
  },
  {
   "cell_type": "code",
   "execution_count": 8,
   "id": "8b3b678b",
   "metadata": {},
   "outputs": [
    {
     "name": "stdout",
     "output_type": "stream",
     "text": [
      "(1259, 27)\n"
     ]
    },
    {
     "data": {
      "text/html": [
       "<div>\n",
       "<style scoped>\n",
       "    .dataframe tbody tr th:only-of-type {\n",
       "        vertical-align: middle;\n",
       "    }\n",
       "\n",
       "    .dataframe tbody tr th {\n",
       "        vertical-align: top;\n",
       "    }\n",
       "\n",
       "    .dataframe thead th {\n",
       "        text-align: right;\n",
       "    }\n",
       "</style>\n",
       "<table border=\"1\" class=\"dataframe\">\n",
       "  <thead>\n",
       "    <tr style=\"text-align: right;\">\n",
       "      <th></th>\n",
       "      <th>Timestamp</th>\n",
       "      <th>Age</th>\n",
       "      <th>Gender</th>\n",
       "      <th>Country</th>\n",
       "      <th>state</th>\n",
       "      <th>self_employed</th>\n",
       "      <th>family_history</th>\n",
       "      <th>treatment</th>\n",
       "      <th>work_interfere</th>\n",
       "      <th>no_employees</th>\n",
       "      <th>remote_work</th>\n",
       "      <th>tech_company</th>\n",
       "      <th>benefits</th>\n",
       "      <th>care_options</th>\n",
       "      <th>wellness_program</th>\n",
       "      <th>seek_help</th>\n",
       "      <th>anonymity</th>\n",
       "      <th>leave</th>\n",
       "      <th>mental_health_consequence</th>\n",
       "      <th>phys_health_consequence</th>\n",
       "      <th>coworkers</th>\n",
       "      <th>supervisor</th>\n",
       "      <th>mental_health_interview</th>\n",
       "      <th>phys_health_interview</th>\n",
       "      <th>mental_vs_physical</th>\n",
       "      <th>obs_consequence</th>\n",
       "      <th>comments</th>\n",
       "    </tr>\n",
       "  </thead>\n",
       "  <tbody>\n",
       "    <tr>\n",
       "      <th>0</th>\n",
       "      <td>2014-08-27 11:29:31</td>\n",
       "      <td>37</td>\n",
       "      <td>Female</td>\n",
       "      <td>United States</td>\n",
       "      <td>IL</td>\n",
       "      <td>NaN</td>\n",
       "      <td>No</td>\n",
       "      <td>Yes</td>\n",
       "      <td>Often</td>\n",
       "      <td>6-25</td>\n",
       "      <td>No</td>\n",
       "      <td>Yes</td>\n",
       "      <td>Yes</td>\n",
       "      <td>Not sure</td>\n",
       "      <td>No</td>\n",
       "      <td>Yes</td>\n",
       "      <td>Yes</td>\n",
       "      <td>Somewhat easy</td>\n",
       "      <td>No</td>\n",
       "      <td>No</td>\n",
       "      <td>Some of them</td>\n",
       "      <td>Yes</td>\n",
       "      <td>No</td>\n",
       "      <td>Maybe</td>\n",
       "      <td>Yes</td>\n",
       "      <td>No</td>\n",
       "      <td>NaN</td>\n",
       "    </tr>\n",
       "    <tr>\n",
       "      <th>1</th>\n",
       "      <td>2014-08-27 11:29:37</td>\n",
       "      <td>44</td>\n",
       "      <td>M</td>\n",
       "      <td>United States</td>\n",
       "      <td>IN</td>\n",
       "      <td>NaN</td>\n",
       "      <td>No</td>\n",
       "      <td>No</td>\n",
       "      <td>Rarely</td>\n",
       "      <td>More than 1000</td>\n",
       "      <td>No</td>\n",
       "      <td>No</td>\n",
       "      <td>Don't know</td>\n",
       "      <td>No</td>\n",
       "      <td>Don't know</td>\n",
       "      <td>Don't know</td>\n",
       "      <td>Don't know</td>\n",
       "      <td>Don't know</td>\n",
       "      <td>Maybe</td>\n",
       "      <td>No</td>\n",
       "      <td>No</td>\n",
       "      <td>No</td>\n",
       "      <td>No</td>\n",
       "      <td>No</td>\n",
       "      <td>Don't know</td>\n",
       "      <td>No</td>\n",
       "      <td>NaN</td>\n",
       "    </tr>\n",
       "    <tr>\n",
       "      <th>2</th>\n",
       "      <td>2014-08-27 11:29:44</td>\n",
       "      <td>32</td>\n",
       "      <td>Male</td>\n",
       "      <td>Canada</td>\n",
       "      <td>NaN</td>\n",
       "      <td>NaN</td>\n",
       "      <td>No</td>\n",
       "      <td>No</td>\n",
       "      <td>Rarely</td>\n",
       "      <td>6-25</td>\n",
       "      <td>No</td>\n",
       "      <td>Yes</td>\n",
       "      <td>No</td>\n",
       "      <td>No</td>\n",
       "      <td>No</td>\n",
       "      <td>No</td>\n",
       "      <td>Don't know</td>\n",
       "      <td>Somewhat difficult</td>\n",
       "      <td>No</td>\n",
       "      <td>No</td>\n",
       "      <td>Yes</td>\n",
       "      <td>Yes</td>\n",
       "      <td>Yes</td>\n",
       "      <td>Yes</td>\n",
       "      <td>No</td>\n",
       "      <td>No</td>\n",
       "      <td>NaN</td>\n",
       "    </tr>\n",
       "    <tr>\n",
       "      <th>3</th>\n",
       "      <td>2014-08-27 11:29:46</td>\n",
       "      <td>31</td>\n",
       "      <td>Male</td>\n",
       "      <td>United Kingdom</td>\n",
       "      <td>NaN</td>\n",
       "      <td>NaN</td>\n",
       "      <td>Yes</td>\n",
       "      <td>Yes</td>\n",
       "      <td>Often</td>\n",
       "      <td>26-100</td>\n",
       "      <td>No</td>\n",
       "      <td>Yes</td>\n",
       "      <td>No</td>\n",
       "      <td>Yes</td>\n",
       "      <td>No</td>\n",
       "      <td>No</td>\n",
       "      <td>No</td>\n",
       "      <td>Somewhat difficult</td>\n",
       "      <td>Yes</td>\n",
       "      <td>Yes</td>\n",
       "      <td>Some of them</td>\n",
       "      <td>No</td>\n",
       "      <td>Maybe</td>\n",
       "      <td>Maybe</td>\n",
       "      <td>No</td>\n",
       "      <td>Yes</td>\n",
       "      <td>NaN</td>\n",
       "    </tr>\n",
       "    <tr>\n",
       "      <th>4</th>\n",
       "      <td>2014-08-27 11:30:22</td>\n",
       "      <td>31</td>\n",
       "      <td>Male</td>\n",
       "      <td>United States</td>\n",
       "      <td>TX</td>\n",
       "      <td>NaN</td>\n",
       "      <td>No</td>\n",
       "      <td>No</td>\n",
       "      <td>Never</td>\n",
       "      <td>100-500</td>\n",
       "      <td>Yes</td>\n",
       "      <td>Yes</td>\n",
       "      <td>Yes</td>\n",
       "      <td>No</td>\n",
       "      <td>Don't know</td>\n",
       "      <td>Don't know</td>\n",
       "      <td>Don't know</td>\n",
       "      <td>Don't know</td>\n",
       "      <td>No</td>\n",
       "      <td>No</td>\n",
       "      <td>Some of them</td>\n",
       "      <td>Yes</td>\n",
       "      <td>Yes</td>\n",
       "      <td>Yes</td>\n",
       "      <td>Don't know</td>\n",
       "      <td>No</td>\n",
       "      <td>NaN</td>\n",
       "    </tr>\n",
       "  </tbody>\n",
       "</table>\n",
       "</div>"
      ],
      "text/plain": [
       "             Timestamp  Age  Gender         Country state self_employed  \\\n",
       "0  2014-08-27 11:29:31   37  Female   United States    IL           NaN   \n",
       "1  2014-08-27 11:29:37   44       M   United States    IN           NaN   \n",
       "2  2014-08-27 11:29:44   32    Male          Canada   NaN           NaN   \n",
       "3  2014-08-27 11:29:46   31    Male  United Kingdom   NaN           NaN   \n",
       "4  2014-08-27 11:30:22   31    Male   United States    TX           NaN   \n",
       "\n",
       "  family_history treatment work_interfere    no_employees remote_work  \\\n",
       "0             No       Yes          Often            6-25          No   \n",
       "1             No        No         Rarely  More than 1000          No   \n",
       "2             No        No         Rarely            6-25          No   \n",
       "3            Yes       Yes          Often          26-100          No   \n",
       "4             No        No          Never         100-500         Yes   \n",
       "\n",
       "  tech_company    benefits care_options wellness_program   seek_help  \\\n",
       "0          Yes         Yes     Not sure               No         Yes   \n",
       "1           No  Don't know           No       Don't know  Don't know   \n",
       "2          Yes          No           No               No          No   \n",
       "3          Yes          No          Yes               No          No   \n",
       "4          Yes         Yes           No       Don't know  Don't know   \n",
       "\n",
       "    anonymity               leave mental_health_consequence  \\\n",
       "0         Yes       Somewhat easy                        No   \n",
       "1  Don't know          Don't know                     Maybe   \n",
       "2  Don't know  Somewhat difficult                        No   \n",
       "3          No  Somewhat difficult                       Yes   \n",
       "4  Don't know          Don't know                        No   \n",
       "\n",
       "  phys_health_consequence     coworkers supervisor mental_health_interview  \\\n",
       "0                      No  Some of them        Yes                      No   \n",
       "1                      No            No         No                      No   \n",
       "2                      No           Yes        Yes                     Yes   \n",
       "3                     Yes  Some of them         No                   Maybe   \n",
       "4                      No  Some of them        Yes                     Yes   \n",
       "\n",
       "  phys_health_interview mental_vs_physical obs_consequence comments  \n",
       "0                 Maybe                Yes              No      NaN  \n",
       "1                    No         Don't know              No      NaN  \n",
       "2                   Yes                 No              No      NaN  \n",
       "3                 Maybe                 No             Yes      NaN  \n",
       "4                   Yes         Don't know              No      NaN  "
      ]
     },
     "execution_count": 8,
     "metadata": {},
     "output_type": "execute_result"
    }
   ],
   "source": [
    "#Import datset into pandas dataframe and print top 5 rows\n",
    "data=pd.read_csv('survey.csv')\n",
    "print(data.shape)\n",
    "pd.set_option(\"display.max_columns\",100)\n",
    "data.head()"
   ]
  },
  {
   "cell_type": "code",
   "execution_count": 9,
   "id": "b992faff",
   "metadata": {},
   "outputs": [
    {
     "data": {
      "text/plain": [
       "Timestamp                       0\n",
       "Age                             0\n",
       "Gender                          0\n",
       "Country                         0\n",
       "state                         515\n",
       "self_employed                  18\n",
       "family_history                  0\n",
       "treatment                       0\n",
       "work_interfere                264\n",
       "no_employees                    0\n",
       "remote_work                     0\n",
       "tech_company                    0\n",
       "benefits                        0\n",
       "care_options                    0\n",
       "wellness_program                0\n",
       "seek_help                       0\n",
       "anonymity                       0\n",
       "leave                           0\n",
       "mental_health_consequence       0\n",
       "phys_health_consequence         0\n",
       "coworkers                       0\n",
       "supervisor                      0\n",
       "mental_health_interview         0\n",
       "phys_health_interview           0\n",
       "mental_vs_physical              0\n",
       "obs_consequence                 0\n",
       "comments                     1095\n",
       "dtype: int64"
      ]
     },
     "execution_count": 9,
     "metadata": {},
     "output_type": "execute_result"
    }
   ],
   "source": [
    "#Check total number of null values in each column\n",
    "data.isnull().sum()"
   ]
  },
  {
   "cell_type": "markdown",
   "id": "5fe19609",
   "metadata": {},
   "source": [
    "## Data Transformation"
   ]
  },
  {
   "cell_type": "code",
   "execution_count": 10,
   "id": "20d22dc9",
   "metadata": {},
   "outputs": [
    {
     "name": "stdout",
     "output_type": "stream",
     "text": [
      "Country  :  ['United States' 'Canada' 'United Kingdom' 'Bulgaria' 'France' 'Portugal'\n",
      " 'Netherlands' 'Switzerland' 'Poland' 'Australia' 'Germany' 'Russia'\n",
      " 'Mexico' 'Brazil' 'Slovenia' 'Costa Rica' 'Austria' 'Ireland' 'India'\n",
      " 'South Africa' 'Italy' 'Sweden' 'Colombia' 'Latvia' 'Romania' 'Belgium'\n",
      " 'New Zealand' 'Zimbabwe' 'Spain' 'Finland' 'Uruguay' 'Israel'\n",
      " 'Bosnia and Herzegovina' 'Hungary' 'Singapore' 'Japan' 'Nigeria'\n",
      " 'Croatia' 'Norway' 'Thailand' 'Denmark' 'Bahamas, The' 'Greece' 'Moldova'\n",
      " 'Georgia' 'China' 'Czech Republic' 'Philippines']\n",
      "state  :  ['IL' 'IN' nan 'TX' 'TN' 'MI' 'OH' 'CA' 'CT' 'MD' 'NY' 'NC' 'MA' 'IA' 'PA'\n",
      " 'WA' 'WI' 'UT' 'NM' 'OR' 'FL' 'MN' 'MO' 'AZ' 'CO' 'GA' 'DC' 'NE' 'WV'\n",
      " 'OK' 'KS' 'VA' 'NH' 'KY' 'AL' 'NV' 'NJ' 'SC' 'VT' 'SD' 'ID' 'MS' 'RI'\n",
      " 'WY' 'LA' 'ME']\n",
      "self_employed  :  [nan 'Yes' 'No']\n",
      "family_history  :  ['No' 'Yes']\n",
      "treatment  :  ['Yes' 'No']\n",
      "work_interfere  :  ['Often' 'Rarely' 'Never' 'Sometimes' nan]\n",
      "no_employees  :  ['6-25' 'More than 1000' '26-100' '100-500' '1-5' '500-1000']\n",
      "remote_work  :  ['No' 'Yes']\n",
      "tech_company  :  ['Yes' 'No']\n",
      "benefits  :  ['Yes' \"Don't know\" 'No']\n",
      "care_options  :  ['Not sure' 'No' 'Yes']\n",
      "wellness_program  :  ['No' \"Don't know\" 'Yes']\n",
      "seek_help  :  ['Yes' \"Don't know\" 'No']\n",
      "anonymity  :  ['Yes' \"Don't know\" 'No']\n",
      "leave  :  ['Somewhat easy' \"Don't know\" 'Somewhat difficult' 'Very difficult'\n",
      " 'Very easy']\n",
      "mental_health_consequence  :  ['No' 'Maybe' 'Yes']\n",
      "phys_health_consequence  :  ['No' 'Yes' 'Maybe']\n",
      "coworkers  :  ['Some of them' 'No' 'Yes']\n",
      "supervisor  :  ['Yes' 'No' 'Some of them']\n",
      "mental_health_interview  :  ['No' 'Yes' 'Maybe']\n",
      "phys_health_interview  :  ['Maybe' 'No' 'Yes']\n",
      "mental_vs_physical  :  ['Yes' \"Don't know\" 'No']\n",
      "obs_consequence  :  ['No' 'Yes']\n"
     ]
    }
   ],
   "source": [
    "#Check and print unique values of categorical variables\n",
    "selected_columns=['Country', 'state', 'self_employed',\n",
    "       'family_history', 'treatment', 'work_interfere', 'no_employees',\n",
    "       'remote_work', 'tech_company', 'benefits', 'care_options',\n",
    "       'wellness_program', 'seek_help', 'anonymity', 'leave',\n",
    "       'mental_health_consequence', 'phys_health_consequence', 'coworkers',\n",
    "       'supervisor', 'mental_health_interview', 'phys_health_interview',\n",
    "       'mental_vs_physical', 'obs_consequence']\n",
    "\n",
    "for i in range(0,len(selected_columns)):\n",
    "    print(selected_columns[i],\" : \",data[selected_columns[i]].unique())"
   ]
  },
  {
   "cell_type": "code",
   "execution_count": 11,
   "id": "fe9fa182",
   "metadata": {},
   "outputs": [
    {
     "name": "stdout",
     "output_type": "stream",
     "text": [
      "[         37          44          32          31          33          35\n",
      "          39          42          23          29          36          27\n",
      "          46          41          34          30          40          38\n",
      "          50          24          18          28          26          22\n",
      "          19          25          45          21         -29          43\n",
      "          56          60          54         329          55 99999999999\n",
      "          48          20          57          58          47          62\n",
      "          51          65          49       -1726           5          53\n",
      "          61           8          11          -1          72]\n"
     ]
    },
    {
     "data": {
      "text/plain": [
       "array([37, 44, 32, 31, 33, 35, 39, 42, 23, 29, 36, 27, 46, 41, 34, 30, 40,\n",
       "       38, 50, 24, 18, 28, 26, 22, 19, 25, 45, 21, 43, 56, 60, 54, 55, 48,\n",
       "       20, 57, 58, 47, 62, 51, 65, 49,  5, 53, 61,  8, 11, 72],\n",
       "      dtype=int64)"
      ]
     },
     "execution_count": 11,
     "metadata": {},
     "output_type": "execute_result"
    }
   ],
   "source": [
    "# Removing anomalies from \"Age\" columns\n",
    "print(data['Age'].unique())\n",
    "data.drop(data[data['Age']<0].index,inplace=True)\n",
    "data.drop(data[data['Age']>100].index,inplace=True)\n",
    "data['Age'].unique()"
   ]
  },
  {
   "cell_type": "code",
   "execution_count": 13,
   "id": "07637f3b",
   "metadata": {},
   "outputs": [],
   "source": [
    "# Transforming \"leave\" column\n",
    "data.loc[(data['leave'].isin(['Somewhat easy','Very easy'])), \"leave\"] = \"Easy\"\n",
    "data.loc[(data['leave'].isin(['Somewhat difficult','Very difficult'])), \"leave\"] = \"Difficult\""
   ]
  },
  {
   "cell_type": "markdown",
   "id": "37720c20",
   "metadata": {},
   "source": [
    "## Data Visualization"
   ]
  },
  {
   "cell_type": "code",
   "execution_count": 14,
   "id": "775a114a",
   "metadata": {},
   "outputs": [
    {
     "data": {
      "text/html": [
       "<div>\n",
       "<style scoped>\n",
       "    .dataframe tbody tr th:only-of-type {\n",
       "        vertical-align: middle;\n",
       "    }\n",
       "\n",
       "    .dataframe tbody tr th {\n",
       "        vertical-align: top;\n",
       "    }\n",
       "\n",
       "    .dataframe thead th {\n",
       "        text-align: right;\n",
       "    }\n",
       "</style>\n",
       "<table border=\"1\" class=\"dataframe\">\n",
       "  <thead>\n",
       "    <tr style=\"text-align: right;\">\n",
       "      <th></th>\n",
       "      <th>Country</th>\n",
       "      <th>Percentage</th>\n",
       "    </tr>\n",
       "  </thead>\n",
       "  <tbody>\n",
       "    <tr>\n",
       "      <th>United States</th>\n",
       "      <td>748</td>\n",
       "      <td>64.76</td>\n",
       "    </tr>\n",
       "    <tr>\n",
       "      <th>United Kingdom</th>\n",
       "      <td>184</td>\n",
       "      <td>15.93</td>\n",
       "    </tr>\n",
       "    <tr>\n",
       "      <th>Canada</th>\n",
       "      <td>72</td>\n",
       "      <td>6.23</td>\n",
       "    </tr>\n",
       "    <tr>\n",
       "      <th>Germany</th>\n",
       "      <td>45</td>\n",
       "      <td>3.90</td>\n",
       "    </tr>\n",
       "    <tr>\n",
       "      <th>Ireland</th>\n",
       "      <td>27</td>\n",
       "      <td>2.34</td>\n",
       "    </tr>\n",
       "    <tr>\n",
       "      <th>Netherlands</th>\n",
       "      <td>27</td>\n",
       "      <td>2.34</td>\n",
       "    </tr>\n",
       "    <tr>\n",
       "      <th>Australia</th>\n",
       "      <td>21</td>\n",
       "      <td>1.82</td>\n",
       "    </tr>\n",
       "    <tr>\n",
       "      <th>France</th>\n",
       "      <td>13</td>\n",
       "      <td>1.13</td>\n",
       "    </tr>\n",
       "    <tr>\n",
       "      <th>India</th>\n",
       "      <td>10</td>\n",
       "      <td>0.87</td>\n",
       "    </tr>\n",
       "    <tr>\n",
       "      <th>New Zealand</th>\n",
       "      <td>8</td>\n",
       "      <td>0.69</td>\n",
       "    </tr>\n",
       "  </tbody>\n",
       "</table>\n",
       "</div>"
      ],
      "text/plain": [
       "                Country  Percentage\n",
       "United States       748       64.76\n",
       "United Kingdom      184       15.93\n",
       "Canada               72        6.23\n",
       "Germany              45        3.90\n",
       "Ireland              27        2.34\n",
       "Netherlands          27        2.34\n",
       "Australia            21        1.82\n",
       "France               13        1.13\n",
       "India                10        0.87\n",
       "New Zealand           8        0.69"
      ]
     },
     "execution_count": 14,
     "metadata": {},
     "output_type": "execute_result"
    }
   ],
   "source": [
    "# Calculate percentage of data from each country\n",
    "value_counts=pd.DataFrame(data['Country'].value_counts()[:10])\n",
    "value_counts['Percentage']=round((value_counts['Country']*100)/(value_counts['Country'].sum()),2)\n",
    "value_counts"
   ]
  },
  {
   "cell_type": "code",
   "execution_count": 15,
   "id": "1b90e3e9",
   "metadata": {},
   "outputs": [
    {
     "data": {
      "text/plain": [
       "Text(0.5, 1.0, 'Top 10 countries with highest Percentage of people with mental health illness')"
      ]
     },
     "execution_count": 15,
     "metadata": {},
     "output_type": "execute_result"
    },
    {
     "data": {
      "image/png": "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\n",
      "text/plain": [
       "<Figure size 1080x432 with 1 Axes>"
      ]
     },
     "metadata": {
      "needs_background": "light"
     },
     "output_type": "display_data"
    }
   ],
   "source": [
    "# Visualize top 10 country with maximum people with mental health illness\n",
    "fig, ax = plt.subplots(figsize=(15, 6))\n",
    "sns.barplot(x=value_counts.index,y='Percentage',data=value_counts)\n",
    "plt.title(\"Top 10 countries with highest Percentage of people with mental health illness\")"
   ]
  },
  {
   "cell_type": "code",
   "execution_count": 16,
   "id": "3be1f303",
   "metadata": {},
   "outputs": [
    {
     "data": {
      "text/plain": [
       "Some of them    772\n",
       "No              258\n",
       "Yes             224\n",
       "Name: coworkers, dtype: int64"
      ]
     },
     "execution_count": 16,
     "metadata": {},
     "output_type": "execute_result"
    },
    {
     "data": {
      "image/png": "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\n",
      "text/plain": [
       "<Figure size 360x360 with 1 Axes>"
      ]
     },
     "metadata": {},
     "output_type": "display_data"
    }
   ],
   "source": [
    "#Visualize pie chart for \"coworkers\" column\n",
    "fig,ax=plt.subplots(figsize=(5,5))\n",
    "plt.title(\"willingness to discuss a mental health issue with coworkers\")\n",
    "plt.pie(data['coworkers'].value_counts(),labels=data['coworkers'].unique())\n",
    "data['coworkers'].value_counts()"
   ]
  },
  {
   "cell_type": "code",
   "execution_count": 17,
   "id": "9c825e73",
   "metadata": {},
   "outputs": [
    {
     "data": {
      "text/plain": [
       "(array([342.,   0.,   0.,   0.,   0., 574.,   0.,   0.,   0., 338.]),\n",
       " array([0. , 0.2, 0.4, 0.6, 0.8, 1. , 1.2, 1.4, 1.6, 1.8, 2. ]),\n",
       " [<matplotlib.patches.Polygon at 0x280dc65fc70>])"
      ]
     },
     "execution_count": 17,
     "metadata": {},
     "output_type": "execute_result"
    },
    {
     "data": {
      "image/png": "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\n",
      "text/plain": [
       "<Figure size 432x288 with 1 Axes>"
      ]
     },
     "metadata": {
      "needs_background": "light"
     },
     "output_type": "display_data"
    }
   ],
   "source": [
    "plt.title(\"Employer takes mental health as seriously as physical health\")\n",
    "plt.hist(data['mental_vs_physical'],histtype='step')"
   ]
  },
  {
   "cell_type": "code",
   "execution_count": 18,
   "id": "c95f964c",
   "metadata": {},
   "outputs": [
    {
     "data": {
      "image/png": "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\n",
      "text/plain": [
       "<Figure size 720x432 with 1 Axes>"
      ]
     },
     "metadata": {
      "needs_background": "light"
     },
     "output_type": "display_data"
    }
   ],
   "source": [
    "# Visualize frequency of \"treatment\" and \"work_interfere\" for overall data\n",
    "plt.figure(figsize = (10,6))\n",
    "sns.countplot(x =  'work_interfere', data = data, hue = 'treatment')\n",
    "plt.show()"
   ]
  },
  {
   "cell_type": "code",
   "execution_count": 19,
   "id": "d18f5113",
   "metadata": {},
   "outputs": [],
   "source": [
    "# Define function to produce country wise visualization for different categorical variables\n",
    "def country_viz(country_name,column_name, hue_column):\n",
    "    country_data=data[data['Country']==country_name]\n",
    "    plt.figure(figsize = (10,6))\n",
    "    sns.countplot(x = column_name, data = country_data, hue = hue_column)\n",
    "    return plt.show()"
   ]
  },
  {
   "cell_type": "code",
   "execution_count": 20,
   "id": "1154cc3d",
   "metadata": {},
   "outputs": [],
   "source": [
    "# Define function to produce country wise pie chart for categorical variables\n",
    "def country_pie_chart(country_name,column_name):\n",
    "    country_data=data[data['Country']==country_name]\n",
    "    plt.figure(figsize=(6,6))\n",
    "    plt.pie(country_data[column_name].value_counts(),labels=country_data[column_name].unique())\n",
    "    plt.title(\"''{0}'' for {1}\".format(column_name,country_name))"
   ]
  },
  {
   "cell_type": "code",
   "execution_count": 21,
   "id": "dde090c0",
   "metadata": {},
   "outputs": [],
   "source": [
    "# Country Names: ['United States' 'Canada' 'United Kingdom' 'Bulgaria' 'France' 'Portugal'\n",
    "# 'Netherlands' 'Switzerland' 'Poland' 'Australia' 'Germany' 'Russia'\n",
    "# 'Mexico' 'Brazil' 'Slovenia' 'Costa Rica' 'Austria' 'Ireland' 'India'\n",
    "# 'South Africa' 'Italy' 'Sweden' 'Colombia' 'Latvia' 'Romania' 'Belgium'\n",
    "# 'New Zealand' 'Spain' 'Finland' 'Uruguay' 'Israel'\n",
    "# 'Bosnia and Herzegovina' 'Hungary' 'Singapore' 'Japan' 'Nigeria'\n",
    "# 'Croatia' 'Norway' 'Thailand' 'Denmark' 'Bahamas, The' 'Greece' 'Moldova'\n",
    "# 'Georgia' 'China' 'Czech Republic' 'Philippines']"
   ]
  },
  {
   "cell_type": "code",
   "execution_count": 22,
   "id": "e9a9569d",
   "metadata": {},
   "outputs": [],
   "source": [
    "# Categorical variables:['self_employed',\n",
    "#       'family_history', 'treatment', 'work_interfere', 'no_employees',\n",
    "#       'remote_work', 'tech_company', 'benefits', 'care_options',\n",
    "#       'wellness_program', 'seek_help', 'anonymity', 'leave',\n",
    "#       'mental_health_consequence', 'phys_health_consequence', 'coworkers',\n",
    "#       'supervisor', 'mental_health_interview', 'phys_health_interview',\n",
    "#       'mental_vs_physical', 'obs_consequence'] "
   ]
  },
  {
   "cell_type": "code",
   "execution_count": 23,
   "id": "18873e0f",
   "metadata": {},
   "outputs": [
    {
     "data": {
      "image/png": "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\n",
      "text/plain": [
       "<Figure size 720x432 with 1 Axes>"
      ]
     },
     "metadata": {
      "needs_background": "light"
     },
     "output_type": "display_data"
    }
   ],
   "source": [
    "country_viz(\"Canada\",\"work_interfere\", \"treatment\")"
   ]
  },
  {
   "cell_type": "code",
   "execution_count": 24,
   "id": "1d146d2e",
   "metadata": {
    "scrolled": true
   },
   "outputs": [
    {
     "data": {
      "image/png": "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\n",
      "text/plain": [
       "<Figure size 432x432 with 1 Axes>"
      ]
     },
     "metadata": {},
     "output_type": "display_data"
    }
   ],
   "source": [
    "country_pie_chart(\"United States\",\"leave\")"
   ]
  },
  {
   "cell_type": "markdown",
   "id": "c8d2445a",
   "metadata": {},
   "source": [
    "# Write up about Analysis"
   ]
  },
  {
   "cell_type": "markdown",
   "id": "de37647f",
   "metadata": {},
   "source": [
    "> As we can see, data has many columns but there are some columns which are not relavent to the questions asked for this\n",
    "project such as Timestamp, Gender, Comments etc. So, I did not consider that for Analysis."
   ]
  },
  {
   "cell_type": "markdown",
   "id": "9265ff7c",
   "metadata": {},
   "source": [
    "> The problem I was facing during this project was about the selection of categorical variables and visualize it according to geographic locations.\n",
    ">So, I have I have considered features like \"leave\", \"treatment\", \"work_interference\", \"mental_vs_physical\", and \"coworkers\" because these are most relavent variables for the analysis of frequency of mental illness varying by geographic locations. \n",
    ">>I have considered \"Country\" column as geographic location because state column has many null values and we can not impute those values."
   ]
  },
  {
   "cell_type": "markdown",
   "id": "e9318ee5",
   "metadata": {},
   "source": [
    "> As we can see that there are many more columns which can be useful to analyse the frequency of mental illness. So, I have created to functions: one for bar chart and second for Pie chart. So, user can select any categorical variable and visualize it country wise for further analysis for any column."
   ]
  },
  {
   "cell_type": "markdown",
   "id": "981c9aa2",
   "metadata": {},
   "source": [
    "> From my Analysis, I found that United states has the maximum number of employes facing mental health disorders in tech workplace followed by United Kingdom and then Canada."
   ]
  },
  {
   "cell_type": "markdown",
   "id": "62608ae8",
   "metadata": {},
   "source": [
    "> Moreover, from the histogram chart it is clear that most of tech employees do not know whether his/her employer takes mental health as seriously as physical health or not."
   ]
  },
  {
   "cell_type": "markdown",
   "id": "6781fa48",
   "metadata": {},
   "source": [
    "> In canada, Maximum number of people who are getting treatment for mental health disorder are facing work interference sometimes."
   ]
  },
  {
   "cell_type": "code",
   "execution_count": null,
   "id": "e1377e2e",
   "metadata": {},
   "outputs": [],
   "source": []
  }
 ],
 "metadata": {
  "kernelspec": {
   "display_name": "Python 3 (ipykernel)",
   "language": "python",
   "name": "python3"
  },
  "language_info": {
   "codemirror_mode": {
    "name": "ipython",
    "version": 3
   },
   "file_extension": ".py",
   "mimetype": "text/x-python",
   "name": "python",
   "nbconvert_exporter": "python",
   "pygments_lexer": "ipython3",
   "version": "3.10.4"
  }
 },
 "nbformat": 4,
 "nbformat_minor": 5
}
